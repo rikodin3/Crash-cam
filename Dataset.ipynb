{
 "cells": [
  {
   "cell_type": "code",
   "execution_count": null,
   "id": "b99779fc-c608-4d22-8a1b-9d3d6250c0e7",
   "metadata": {},
   "outputs": [],
   "source": [
    "import os, cv2, csv\n",
    "import numpy as np\n",
    "import pandas as pd\n",
    "import torch"
   ]
  },
  {
   "cell_type": "code",
   "execution_count": null,
   "id": "1e041303-b08e-4d0d-9c7a-791013d5399b",
   "metadata": {},
   "outputs": [],
   "source": [
    "def build_labels(root_dir):\n",
    "    \"\"\"\n",
    "    Function to build labels as accident and normal for the videoes in the dataset\n",
    "    \"\"\"\n",
    "    labels_dict = {} \n",
    "    for label, label_val in {\"accident\":1,\"normal\":0}.items():\n",
    "        folder = os.path.join(root_dir, label)\n",
    "        for fname in os.listdir(folder):\n",
    "            key = f\"{label}/{fname}\"\n",
    "            labels_dict[key] = label_val\n",
    "    return labels_dict"
   ]
  },
  {
   "cell_type": "code",
   "execution_count": null,
   "id": "46538708-f30d-444b-aa04-e49e5d571343",
   "metadata": {},
   "outputs": [],
   "source": [
    "def build_dataset(dataset_name, video_dir, labels_dict, out_csv):\n",
    "    \"\"\"\n",
    "    video_dir: path to the folder containing all the videos\n",
    "    labels_dict: dict {filename : label} where label is 0/1\n",
    "    this function is used to add metadata to data.csv\n",
    "    \"\"\"\n",
    "    rows = []\n",
    "    for fname, label in labels_dict.items():\n",
    "        path = os.path.join(video_dir, fname)\n",
    "        cap = cv2.VideoCapture(path)\n",
    "        total_frames = int(cap.get(cv2.CAP_PROP_FRAME_COUNT))\n",
    "        fps = int(cap.get(cv2.CAP_PROP_FPS))\n",
    "        cap.release()\n",
    "        rows.append([f'{dataset_name}_{os.path.splitext(fname)[0]}', dataset_name, path, total_frames-1, fps, label]) #the frame couting starts from 0 \n",
    "\n",
    "    with open(out_csv, \"a\", newline=\"\") as f:\n",
    "        writer = csv.writer(f)\n",
    "        writer.writerow([\"video_id\", \"dataset\", \"path\", \"clip_end_frame\", \"fps\", \"label\"])\n",
    "        writer.writerows(rows)"
   ]
  },
  {
   "cell_type": "code",
   "execution_count": null,
   "id": "f5819922-3b2d-4788-b674-9cbc67d404bf",
   "metadata": {},
   "outputs": [],
   "source": [
    "def show_frames(video_path,clip_end_frame):\n",
    "    \"\"\"\n",
    "    video_path: path to a specific video\n",
    "    clip_end_frame: number of frames in the video\n",
    "    this is a function to test the video sampling\n",
    "    \"\"\"\n",
    "    cap = cv2.VideoCapture(video_path)\n",
    "    frame_num = 0\n",
    "    idxs = np.linspace(0, clip_end_frame-1, 30).astype(int)\n",
    "    for idx in idxs:\n",
    "        cap.set(cv2.CAP_PROP_POS_FRAMES,idx)\n",
    "        ret, frame= cap.read()\n",
    "        if ret:\n",
    "            cv2.imshow('Frame', frame)\n",
    "            cv2.waitKey(500)\n",
    "        else:\n",
    "            print(\"Frame couldnt be read\")\n",
    "    cap.release()\n",
    "    cv2.destroyAllWindows()"
   ]
  },
  {
   "cell_type": "code",
   "execution_count": 21,
   "id": "93aa531d-a789-4acf-8ff2-1f5ce71db6f3",
   "metadata": {},
   "outputs": [],
   "source": [
    "df = pd.read_csv(\"data.csv\") # we have saved all the videos to data.csv\n",
    "def save_frames(video_path, clip_end_frame):\n",
    "    \"\"\"\n",
    "    video_path: path to a specific video\n",
    "    clip_end_frame: number of frames in the video\n",
    "    \n",
    "    \"\"\"\n",
    "    cap = cv2.VideoCapture(video_path)\n",
    "    fname = os.path.splitext(video_path)[0].split('/')[-1]\n",
    "    folder_name = os.path.basename(os.path.dirname(video_path))\n",
    "    os.makedirs(f\"C:/Users/yashr/Downloads/sampled_frames/{folder_name}-{fname}\")\n",
    "    idxs = np.linspace(0, clip_end_frame-1, 60).astype(int)\n",
    "    for idx in idxs:\n",
    "        cap.set(cv2.CAP_PROP_POS_FRAMES,idx)\n",
    "        ret, frame= cap.read()\n",
    "        if ret:\n",
    "            frame_filename = os.path.join(f\"C:/Users/yashr/Downloads/sampled_frames/{folder_name}-{fname}\", f\"frame_{idx:05d}.jpg\")\n",
    "            cv2.imwrite(frame_filename, frame)\n",
    "        else:\n",
    "            print(\"Frame couldnt be read\")"
   ]
  },
  {
   "cell_type": "code",
   "execution_count": 23,
   "id": "d56e32d4-e0df-48c3-9d1a-0ea3f0f7ceb8",
   "metadata": {},
   "outputs": [
    {
     "name": "stdout",
     "output_type": "stream",
     "text": [
      "Frame couldnt be read\n",
      "Frame couldnt be read\n",
      "Frame couldnt be read\n",
      "Frame couldnt be read\n",
      "Frame couldnt be read\n",
      "Frame couldnt be read\n",
      "Frame couldnt be read\n",
      "Frame couldnt be read\n",
      "Frame couldnt be read\n",
      "Frame couldnt be read\n",
      "Frame couldnt be read\n",
      "Frame couldnt be read\n",
      "Frame couldnt be read\n",
      "Frame couldnt be read\n",
      "Frame couldnt be read\n",
      "Frame couldnt be read\n",
      "Frame couldnt be read\n",
      "Frame couldnt be read\n",
      "Frame couldnt be read\n",
      "Frame couldnt be read\n",
      "Frame couldnt be read\n",
      "Frame couldnt be read\n",
      "Frame couldnt be read\n",
      "Frame couldnt be read\n",
      "Frame couldnt be read\n",
      "Frame couldnt be read\n"
     ]
    }
   ],
   "source": [
    "for _, row in df.iloc[372:].iterrows():\n",
    "    video_path = row[\"path\"]\n",
    "    clip_end_frame = row[\"clip_end_frame\"]\n",
    "    save_frames(video_path, clip_end_frame)"
   ]
  },
  {
   "cell_type": "code",
   "execution_count": 39,
   "id": "1a182cac-54b0-4157-b9d2-89f6f6bee8c7",
   "metadata": {},
   "outputs": [],
   "source": [
    "ROOT = \"sampled_frames\"\n",
    "\n",
    "for folder in sorted(os.listdir(ROOT)):\n",
    "    clip_path = os.path.join(ROOT, folder)\n",
    "    if not os.path.isdir(clip_path):\n",
    "        continue\n",
    "\n",
    "    # collect frame files\n",
    "    frames = [f for f in os.listdir(clip_path)]\n",
    "    frames.sort()  # ensuring chronological order\n",
    "\n",
    "    n = len(frames)\n",
    "    if(n<60):\n",
    "        last_frame_path = os.path.join(clip_path, frames[-1])\n",
    "        last_img = cv2.imread(last_frame_path)\n",
    "        new_name = f\"frame_{i+1:04d}.jpg\"  # consistent naming\n",
    "        new_path = os.path.join(clip_path, new_name)\n",
    "        cv2.imwrite(new_path, last_img)\n",
    "        print(f\"Padded {folder}: added {60 - n} frames\")"
   ]
  }
 ],
 "metadata": {
  "kernelspec": {
   "display_name": "Python 3 (ipykernel)",
   "language": "python",
   "name": "python3"
  },
  "language_info": {
   "codemirror_mode": {
    "name": "ipython",
    "version": 3
   },
   "file_extension": ".py",
   "mimetype": "text/x-python",
   "name": "python",
   "nbconvert_exporter": "python",
   "pygments_lexer": "ipython3",
   "version": "3.10.18"
  }
 },
 "nbformat": 4,
 "nbformat_minor": 5
}
